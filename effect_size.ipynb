{
 "cells": [
  {
   "cell_type": "markdown",
   "metadata": {},
   "source": [
    "# Inference about effect sizes (IN PROGRESS)\n",
    "This notebook is going to explore any mistaken research conclusions that may arise from use of the original Rachlin discount function, aand compare that to the Modified Rachlin function.\n",
    "\n",
    "We will do this in the context of comparing two groups with different discount rates $\\kappa$. We will explore a range of true effect sizes (difference in means of 2 groups divided by pooled variance).\n",
    "\n",
    "Steps are:\n",
    "\n",
    "1. Define true group means of $\\kappa$.\n",
    "2. Define a range of true effect sizes, varying the variance of $\\kappa$ for each group accordingly.\n",
    "3. Iterate over each true effect size:\n",
    "    - simulate a dataset of $N$ participants\n",
    "    - conduct Bayesian inference to estimate effect sizes, doing so for the Rachlin and the Modified Rachlin discount functions.\n",
    "    - plot the true effect size vs the inferred effect size.\n",
    "    \n",
    "**The example below is with differences in group $\\kappa$ values, but no group difference in group $s$ values.**"
   ]
  },
  {
   "cell_type": "markdown",
   "metadata": {},
   "source": [
    "Note that the Bayesian t-test component of this code was inspired by the PyMC3 implementation (here https://github.com/strawlab/best, https://docs.pymc.io/notebooks/BEST.html) of the BEST model by Kruschke (2012)."
   ]
  },
  {
   "cell_type": "code",
   "execution_count": 1,
   "metadata": {},
   "outputs": [
    {
     "name": "stdout",
     "output_type": "stream",
     "text": [
      "Python version:\n",
      "3.6.8 |Anaconda custom (64-bit)| (default, Dec 29 2018, 19:04:46) \n",
      "[GCC 4.2.1 Compatible Clang 4.0.1 (tags/RELEASE_401/final)]\n",
      "\n",
      "PyMC3 v3.7\n"
     ]
    }
   ],
   "source": [
    "import matplotlib.pyplot as plt\n",
    "%config InlineBackend.figure_format = 'retina'\n",
    "\n",
    "import numpy as np\n",
    "import math\n",
    "import pandas as pd\n",
    "\n",
    "import sys\n",
    "print(f'Python version:\\n{sys.version}\\n')\n",
    "\n",
    "import pymc3 as pm\n",
    "print(f'PyMC3 v{pm.__version__}')\n",
    "\n",
    "%run set_plot_options.py\n",
    "from discount_functions import rachlin, rachlin_kappa\n",
    "from adaptive_experiment import make_dataset"
   ]
  },
  {
   "cell_type": "code",
   "execution_count": 2,
   "metadata": {},
   "outputs": [],
   "source": [
    "# Initialize random number generator\n",
    "SEED = 123\n",
    "np.random.seed(SEED)\n",
    "\n",
    "# Define sampler options\n",
    "sample_options = {'tune': 500, 'draws': 1000,\n",
    "                  'chains': 4, 'cores': 4,\n",
    "                  'nuts_kwargs': {'target_accept': 0.95},\n",
    "                  'random_seed': SEED}"
   ]
  },
  {
   "cell_type": "markdown",
   "metadata": {},
   "source": [
    "Define inference method as `MCMC` or `variational inference`"
   ]
  },
  {
   "cell_type": "code",
   "execution_count": 3,
   "metadata": {},
   "outputs": [],
   "source": [
    "INFERENCE_METHOD = 'variational inference'"
   ]
  },
  {
   "cell_type": "markdown",
   "metadata": {},
   "source": [
    "## Functions for simulated dataset generation"
   ]
  },
  {
   "cell_type": "code",
   "execution_count": 4,
   "metadata": {},
   "outputs": [],
   "source": [
    "def cohend(d1, d2):\n",
    "    # calculate the size of samples\n",
    "    n1, n2 = len(d1), len(d2)\n",
    "    # calculate the variance of the samples\n",
    "    s1, s2 = np.var(d1, ddof=1), np.var(d2, ddof=1)\n",
    "    # calculate the pooled standard deviation\n",
    "    s = math.sqrt(((n1 - 1) * s1 + (n2 - 1) * s2) / (n1 + n2 - 2))\n",
    "    # calculate the means of the samples\n",
    "    u1, u2 = np.mean(d1), np.mean(d2)\n",
    "    # calculate the effect size\n",
    "    return (u1 - u2) / s"
   ]
  },
  {
   "cell_type": "code",
   "execution_count": 5,
   "metadata": {},
   "outputs": [],
   "source": [
    "def make_participant_level_dataset(logκ_std,\n",
    "                                   groupA_logκmean=-4.6, \n",
    "                                   groupB_logκmean=-2.3,\n",
    "                                   groupA_logsmean=0., \n",
    "                                   groupB_logsmean=0.,\n",
    "                                   logs_std=0.1,\n",
    "                                   N_per_group=20):\n",
    "    '''Generate a set of true participant discount function parameter\n",
    "    values which conforms to the inputs:\n",
    "    - group means\n",
    "    - effect size'''\n",
    "    \n",
    "    # generate log(κ) values\n",
    "    a_logκ = np.random.normal(loc=groupA_logκmean, scale=logκ_std, size=N_per_group)\n",
    "    b_logκ = np.random.normal(loc=groupB_logκmean, scale=logκ_std, size=N_per_group)\n",
    "    \n",
    "    # generate log(s) values\n",
    "    a_logs = np.random.normal(loc=groupA_logsmean, scale=logs_std, size=N_per_group)\n",
    "    b_logs = np.random.normal(loc=groupB_logsmean, scale=logs_std, size=N_per_group)\n",
    "    \n",
    "    dataset = pd.DataFrame()\n",
    "    dataset['logkappa'] = np.concatenate([a_logκ, b_logκ])\n",
    "    dataset['logs'] = np.concatenate([a_logs, b_logs])\n",
    "    dataset['group'] = np.concatenate( (np.zeros(N_per_group), np.ones(N_per_group)))\n",
    "    # convert to int\n",
    "    dataset['group'] = np.int_(dataset['group'])\n",
    "    \n",
    "    true_logκ_effect_size = cohend(a_logκ, b_logκ)\n",
    "    true_logs_effect_size = cohend(a_logs, b_logs)\n",
    "    \n",
    "    return dataset, true_logκ_effect_size, true_logs_effect_size"
   ]
  },
  {
   "cell_type": "code",
   "execution_count": 6,
   "metadata": {},
   "outputs": [],
   "source": [
    "def split_apply_combine(df, func):\n",
    "    '''Ben's useful split-apply-combine utility function.\n",
    "    We split by row, iterate over them applying the function, then combine into a\n",
    "    single dataframe.'''\n",
    "    output = []\n",
    "    for i in range(df.shape[0]):\n",
    "        # split by row\n",
    "        row = df.iloc[i,:]\n",
    "        # apply function\n",
    "        output.append(func(row, i))\n",
    "        \n",
    "    # combine\n",
    "    output = pd.concat(output, ignore_index=True)\n",
    "    return output\n",
    "\n",
    "\n",
    "def simulate_one_experiment(row, i):\n",
    "    \n",
    "    data_generating_discount_func = rachlin_kappa\n",
    "    \n",
    "    # extract info from row (HERE IS WHERE WE CONVERT PARAMETERS FROM LOG TO LINEAR SPACE)\n",
    "    data_generating_params = np.exp(row.logs), np.exp(row.logkappa)\n",
    "    \n",
    "    # apply my function... simulate a dataset\n",
    "    pdata = make_dataset(data_generating_discount_func, data_generating_params)\n",
    "    \n",
    "    # add participant number column\n",
    "    pdata['id'] = pd.Series(i, index=pdata.index)\n",
    "    \n",
    "    # add group column\n",
    "    group = row.group\n",
    "    pdata['group'] = np.int_(pd.Series(group, index=pdata.index))\n",
    "    \n",
    "    return pdata"
   ]
  },
  {
   "cell_type": "code",
   "execution_count": 7,
   "metadata": {},
   "outputs": [],
   "source": [
    "def simulate_entire_experiment(participant_level_dataset):\n",
    "    '''Simulate an entire experiment based on the provided true participant level\n",
    "    parameters.'''\n",
    "    trial_level_dataset = split_apply_combine(participant_level_dataset, simulate_one_experiment)\n",
    "    return trial_level_dataset"
   ]
  },
  {
   "cell_type": "markdown",
   "metadata": {},
   "source": [
    "## Functions for Bayesian inference on effect size"
   ]
  },
  {
   "cell_type": "code",
   "execution_count": 8,
   "metadata": {},
   "outputs": [],
   "source": [
    "def modified_rachlin(delay, k, s):\n",
    "    ''' This is the MODIFIED Rachlin discount function.'''\n",
    "    return 1 / (1.0+(k*delay)**s)\n",
    "\n",
    "\n",
    "def rachlin(delay, k, s):\n",
    "    ''' This is the original Rachlin discount function.'''\n",
    "    return 1 / (1.0+k*delay**s)\n",
    "\n",
    "\n",
    "def Φ(VA, VB, ϵ=0.01):\n",
    "    '''Psychometric function which converts the decision variable (VB-VA)\n",
    "    into a reponse probability. Output corresponds to probability of choosing\n",
    "    the delayed reward (option B).'''\n",
    "    return ϵ + (1.0-2.0*ϵ) * (1/(1+pm.math.exp(-1.7*(VB-VA))))"
   ]
  },
  {
   "cell_type": "markdown",
   "metadata": {},
   "source": [
    "# TODO: Update the Φ function"
   ]
  },
  {
   "cell_type": "code",
   "execution_count": 9,
   "metadata": {},
   "outputs": [],
   "source": [
    "def participant_group_lookup(trial_level_dataset):\n",
    "    # create a group lookup table. 1 entry for each particpant\n",
    "    temp = np.array([trial_level_dataset['id'].values, trial_level_dataset['group'].values]).T\n",
    "    temp = np.unique(temp, axis=0)\n",
    "    group = temp[:,1]\n",
    "    return group"
   ]
  },
  {
   "cell_type": "code",
   "execution_count": 10,
   "metadata": {},
   "outputs": [],
   "source": [
    "def make_modified_rachlin_model(trial_level_dataset):\n",
    "    '''Returns a PyMC3 model which does inference on discounting parameters from participants\n",
    "    from two groups. We have hierachical inference at the group level and we are essentially doing\n",
    "    a Bayesian t-test where we estimate Cohen's D effect size'''\n",
    "    \n",
    "    # extract data from DataFrame\n",
    "    DA = trial_level_dataset.DA.values\n",
    "    RA = trial_level_dataset.RA.values\n",
    "    DB = trial_level_dataset.DB.values\n",
    "    RB = trial_level_dataset.RB.values\n",
    "    R = trial_level_dataset.R.values\n",
    "    id = trial_level_dataset.id.values\n",
    "    \n",
    "    group = participant_group_lookup(trial_level_dataset)\n",
    "    \n",
    "    n_participants = np.max(trial_level_dataset.id) + 1\n",
    "    n_groups = 2\n",
    "     \n",
    "#     # use actual mean and std as parameters for the prior\n",
    "#     μ_m = y.value.mean()\n",
    "#     μ_s = y.value.std() * 2\n",
    "\n",
    "    σ_low = 0\n",
    "    σ_high = 10\n",
    "    \n",
    "    # Start building the model from the top down, starting with Bayesian t-test\n",
    "    with pm.Model() as model:\n",
    "        logκ_group_means = pm.Normal('logκ_group_means', mu=[-4, -2], sd=1, shape=n_groups)\n",
    "        logκ_group_stds = pm.Uniform('logκ_group_stds', lower=σ_low, upper=σ_high, shape=n_groups)\n",
    "        # group_logk = pm.Normal('group_logk', mu=group_means, sd=group_stds, shape=n_groups)\n",
    "\n",
    "        logs_group_means = pm.Normal('logs_group_means', mu=1, sd=1, shape=n_groups)\n",
    "        logs_group_stds = pm.Uniform('logs_group_stds', lower=σ_low, upper=σ_high, shape=n_groups)\n",
    "            \n",
    "    # compute measures about the group level estimates of logk\n",
    "    with model:\n",
    "        logκ_diff_of_means = pm.Deterministic('logκ difference of means', logκ_group_means[0] - logκ_group_means[1])\n",
    "        logκ_diff_of_stds = pm.Deterministic('logκ difference of stds', logκ_group_stds[0] - logκ_group_stds[1])\n",
    "        logκ_effect_size = pm.Deterministic('logκ effect size',\n",
    "                                       logκ_diff_of_means / np.sqrt((logκ_group_stds[0]**2 + logκ_group_stds[1]**2) / 2))\n",
    "        \n",
    "        logs_diff_of_means = pm.Deterministic('logs difference of means', logs_group_means[0] - logs_group_means[1])\n",
    "        logs_diff_of_stds = pm.Deterministic('logs difference of stds', logs_group_stds[0] - logs_group_stds[1])\n",
    "        logs_effect_size = pm.Deterministic('logs effect size',\n",
    "                                       logs_diff_of_means / np.sqrt((logs_group_stds[0]**2 + logs_group_stds[1]**2) / 2))\n",
    "        \n",
    "    # Discounting part of the model\n",
    "    with model:\n",
    "        # priors over parameters for each participant\n",
    "        logκ = pm.Normal('logκ', mu=logκ_group_means[group], sd=logκ_group_stds[group], shape=n_participants)\n",
    "        logs = pm.Normal('logs', mu=logs_group_means[group], sd=logs_group_stds[group], shape=n_participants)\n",
    "    \n",
    "        VA = RA * modified_rachlin(DA, pm.math.exp(logκ[id]), pm.math.exp(logs[id]))  \n",
    "        VB = RB * modified_rachlin(DB, pm.math.exp(logκ[id]), pm.math.exp(logs[id]))  \n",
    "\n",
    "        P = pm.Deterministic('P', Φ(VA, VB))\n",
    "\n",
    "        # Likelihood of observations\n",
    "        R = pm.Bernoulli('R', p=P, observed=R)\n",
    "\n",
    "    return model"
   ]
  },
  {
   "cell_type": "markdown",
   "metadata": {},
   "source": [
    "# High level code here"
   ]
  },
  {
   "cell_type": "code",
   "execution_count": 16,
   "metadata": {},
   "outputs": [],
   "source": [
    "def infer_effect_size_modified_rachlin(trial_level_dataset, debug=False):\n",
    "    \n",
    "    # Build model\n",
    "    model = make_modified_rachlin_model(trial_level_dataset)\n",
    "    \n",
    "    if debug:\n",
    "        pm.model_to_graphviz(model)\n",
    "    \n",
    "    # Do the inference\n",
    "    if INFERENCE_METHOD == 'variational inference':\n",
    "        with model:\n",
    "            advi_fit = pm.fit(method=pm.ADVI(), n=100_000)\n",
    "            \n",
    "            advi_elbo = pd.DataFrame({'log-ELBO': -np.log(advi_fit.hist),\n",
    "                          'n': np.arange(advi_fit.hist.shape[0])})\n",
    "            plt.plot(advi_elbo['n'], advi_elbo['log-ELBO'])\n",
    "\n",
    "            trace = advi_fit.sample(10_000)\n",
    "    \n",
    "    elif INFERENCE_METHOD == 'MCMC':\n",
    "        with model:\n",
    "            trace = pm.sample(**sample_options)\n",
    "        \n",
    "    # Calculate summary statistics\n",
    "    logκ = pm.stats.quantiles(trace['logκ effect size'])\n",
    "    logs = pm.stats.quantiles(trace['logs effect size'])\n",
    "    \n",
    "    # package results into a single row of a DataFrame\n",
    "    return pd.DataFrame.from_dict({'logκ50': [logκ[50]], 'logκ2.5': [logκ[2.5]], 'logκ97.5': [logκ[97.5]],\n",
    "                                   'logs50': [logs[50]], 'logs2.5': [logs[2.5]], 'logs97.5': [logs[97.5]]})"
   ]
  },
  {
   "cell_type": "markdown",
   "metadata": {},
   "source": [
    "Iterate over κstd"
   ]
  },
  {
   "cell_type": "code",
   "execution_count": 17,
   "metadata": {},
   "outputs": [
    {
     "name": "stderr",
     "output_type": "stream",
     "text": [
      "Average Loss = 1,411.5: 100%|██████████| 100000/100000 [01:58<00:00, 841.18it/s]\n",
      "Finished [100%]: Average Loss = 1,411.5\n",
      "Average Loss = 1,415.1: 100%|██████████| 100000/100000 [01:59<00:00, 839.09it/s]\n",
      "Finished [100%]: Average Loss = 1,415.1\n",
      "Average Loss = 1,400.8: 100%|██████████| 100000/100000 [01:51<00:00, 899.68it/s]\n",
      "Finished [100%]: Average Loss = 1,400.8\n",
      "Average Loss = 2,526.1:  39%|███▉      | 39432/100000 [00:44<01:04, 934.33it/s]\n"
     ]
    },
    {
     "ename": "FloatingPointError",
     "evalue": "NaN occurred in optimization. \nThe current approximation of RV `logκ`.ravel()[31] is NaN.\nThe current approximation of RV `logs_group_stds_interval__`.ravel()[1] is NaN.\nThe current approximation of RV `logs_group_means`.ravel()[1] is NaN.\nThe current approximation of RV `logκ_group_stds_interval__`.ravel()[1] is NaN.\nThe current approximation of RV `logs`.ravel()[31] is NaN.\nThe current approximation of RV `logκ_group_means`.ravel()[1] is NaN.\nTry tracking this parameter: http://docs.pymc.io/notebooks/variational_api_quickstart.html#Tracking-parameters",
     "output_type": "error",
     "traceback": [
      "\u001b[0;31m---------------------------------------------------------------------------\u001b[0m",
      "\u001b[0;31mFloatingPointError\u001b[0m                        Traceback (most recent call last)",
      "\u001b[0;32m<ipython-input-17-aa9856a0a822>\u001b[0m in \u001b[0;36m<module>\u001b[0;34m\u001b[0m\n\u001b[1;32m     18\u001b[0m     \u001b[0mtrial_level_dataset\u001b[0m \u001b[0;34m=\u001b[0m \u001b[0msimulate_entire_experiment\u001b[0m\u001b[0;34m(\u001b[0m\u001b[0mpdataset\u001b[0m\u001b[0;34m)\u001b[0m\u001b[0;34m\u001b[0m\u001b[0;34m\u001b[0m\u001b[0m\n\u001b[1;32m     19\u001b[0m \u001b[0;34m\u001b[0m\u001b[0m\n\u001b[0;32m---> 20\u001b[0;31m     \u001b[0mthese_results\u001b[0m \u001b[0;34m=\u001b[0m \u001b[0minfer_effect_size_modified_rachlin\u001b[0m\u001b[0;34m(\u001b[0m\u001b[0mtrial_level_dataset\u001b[0m\u001b[0;34m)\u001b[0m\u001b[0;34m\u001b[0m\u001b[0;34m\u001b[0m\u001b[0m\n\u001b[0m\u001b[1;32m     21\u001b[0m \u001b[0;34m\u001b[0m\u001b[0m\n\u001b[1;32m     22\u001b[0m     \u001b[0mthese_results\u001b[0m\u001b[0;34m[\u001b[0m\u001b[0;34m'logκstd'\u001b[0m\u001b[0;34m]\u001b[0m \u001b[0;34m=\u001b[0m \u001b[0mgroup_logκstd\u001b[0m\u001b[0;34m\u001b[0m\u001b[0;34m\u001b[0m\u001b[0m\n",
      "\u001b[0;32m<ipython-input-16-0b66cb646a14>\u001b[0m in \u001b[0;36minfer_effect_size_modified_rachlin\u001b[0;34m(trial_level_dataset, debug)\u001b[0m\n\u001b[1;32m     10\u001b[0m     \u001b[0;32mif\u001b[0m \u001b[0mINFERENCE_METHOD\u001b[0m \u001b[0;34m==\u001b[0m \u001b[0;34m'variational inference'\u001b[0m\u001b[0;34m:\u001b[0m\u001b[0;34m\u001b[0m\u001b[0;34m\u001b[0m\u001b[0m\n\u001b[1;32m     11\u001b[0m         \u001b[0;32mwith\u001b[0m \u001b[0mmodel\u001b[0m\u001b[0;34m:\u001b[0m\u001b[0;34m\u001b[0m\u001b[0;34m\u001b[0m\u001b[0m\n\u001b[0;32m---> 12\u001b[0;31m             \u001b[0madvi_fit\u001b[0m \u001b[0;34m=\u001b[0m \u001b[0mpm\u001b[0m\u001b[0;34m.\u001b[0m\u001b[0mfit\u001b[0m\u001b[0;34m(\u001b[0m\u001b[0mmethod\u001b[0m\u001b[0;34m=\u001b[0m\u001b[0mpm\u001b[0m\u001b[0;34m.\u001b[0m\u001b[0mADVI\u001b[0m\u001b[0;34m(\u001b[0m\u001b[0;34m)\u001b[0m\u001b[0;34m,\u001b[0m \u001b[0mn\u001b[0m\u001b[0;34m=\u001b[0m\u001b[0;36m100_000\u001b[0m\u001b[0;34m)\u001b[0m\u001b[0;34m\u001b[0m\u001b[0;34m\u001b[0m\u001b[0m\n\u001b[0m\u001b[1;32m     13\u001b[0m \u001b[0;34m\u001b[0m\u001b[0m\n\u001b[1;32m     14\u001b[0m             advi_elbo = pd.DataFrame({'log-ELBO': -np.log(advi_fit.hist),\n",
      "\u001b[0;32m~/anaconda3/lib/python3.6/site-packages/pymc3/variational/inference.py\u001b[0m in \u001b[0;36mfit\u001b[0;34m(n, local_rv, method, model, random_seed, start, inf_kwargs, **kwargs)\u001b[0m\n\u001b[1;32m    788\u001b[0m                         \u001b[0;34m'or Inference instance'\u001b[0m \u001b[0;34m%\u001b[0m\u001b[0;34m\u001b[0m\u001b[0;34m\u001b[0m\u001b[0m\n\u001b[1;32m    789\u001b[0m                         set(_select.keys()))\n\u001b[0;32m--> 790\u001b[0;31m     \u001b[0;32mreturn\u001b[0m \u001b[0minference\u001b[0m\u001b[0;34m.\u001b[0m\u001b[0mfit\u001b[0m\u001b[0;34m(\u001b[0m\u001b[0mn\u001b[0m\u001b[0;34m,\u001b[0m \u001b[0;34m**\u001b[0m\u001b[0mkwargs\u001b[0m\u001b[0;34m)\u001b[0m\u001b[0;34m\u001b[0m\u001b[0;34m\u001b[0m\u001b[0m\n\u001b[0m",
      "\u001b[0;32m~/anaconda3/lib/python3.6/site-packages/pymc3/variational/inference.py\u001b[0m in \u001b[0;36mfit\u001b[0;34m(self, n, score, callbacks, progressbar, **kwargs)\u001b[0m\n\u001b[1;32m    132\u001b[0m         \u001b[0;32mwith\u001b[0m \u001b[0mtqdm\u001b[0m\u001b[0;34m.\u001b[0m\u001b[0mtrange\u001b[0m\u001b[0;34m(\u001b[0m\u001b[0mn\u001b[0m\u001b[0;34m,\u001b[0m \u001b[0mdisable\u001b[0m\u001b[0;34m=\u001b[0m\u001b[0;32mnot\u001b[0m \u001b[0mprogressbar\u001b[0m\u001b[0;34m)\u001b[0m \u001b[0;32mas\u001b[0m \u001b[0mprogress\u001b[0m\u001b[0;34m:\u001b[0m\u001b[0;34m\u001b[0m\u001b[0;34m\u001b[0m\u001b[0m\n\u001b[1;32m    133\u001b[0m             \u001b[0;32mif\u001b[0m \u001b[0mscore\u001b[0m\u001b[0;34m:\u001b[0m\u001b[0;34m\u001b[0m\u001b[0;34m\u001b[0m\u001b[0m\n\u001b[0;32m--> 134\u001b[0;31m                 \u001b[0mstate\u001b[0m \u001b[0;34m=\u001b[0m \u001b[0mself\u001b[0m\u001b[0;34m.\u001b[0m\u001b[0m_iterate_with_loss\u001b[0m\u001b[0;34m(\u001b[0m\u001b[0;36m0\u001b[0m\u001b[0;34m,\u001b[0m \u001b[0mn\u001b[0m\u001b[0;34m,\u001b[0m \u001b[0mstep_func\u001b[0m\u001b[0;34m,\u001b[0m \u001b[0mprogress\u001b[0m\u001b[0;34m,\u001b[0m \u001b[0mcallbacks\u001b[0m\u001b[0;34m)\u001b[0m\u001b[0;34m\u001b[0m\u001b[0;34m\u001b[0m\u001b[0m\n\u001b[0m\u001b[1;32m    135\u001b[0m             \u001b[0;32melse\u001b[0m\u001b[0;34m:\u001b[0m\u001b[0;34m\u001b[0m\u001b[0;34m\u001b[0m\u001b[0m\n\u001b[1;32m    136\u001b[0m                 \u001b[0mstate\u001b[0m \u001b[0;34m=\u001b[0m \u001b[0mself\u001b[0m\u001b[0;34m.\u001b[0m\u001b[0m_iterate_without_loss\u001b[0m\u001b[0;34m(\u001b[0m\u001b[0;36m0\u001b[0m\u001b[0;34m,\u001b[0m \u001b[0mn\u001b[0m\u001b[0;34m,\u001b[0m \u001b[0mstep_func\u001b[0m\u001b[0;34m,\u001b[0m \u001b[0mprogress\u001b[0m\u001b[0;34m,\u001b[0m \u001b[0mcallbacks\u001b[0m\u001b[0;34m)\u001b[0m\u001b[0;34m\u001b[0m\u001b[0;34m\u001b[0m\u001b[0m\n",
      "\u001b[0;32m~/anaconda3/lib/python3.6/site-packages/pymc3/variational/inference.py\u001b[0m in \u001b[0;36m_iterate_with_loss\u001b[0;34m(self, s, n, step_func, progress, callbacks)\u001b[0m\n\u001b[1;32m    216\u001b[0m                     \u001b[0;32mexcept\u001b[0m \u001b[0mIndexError\u001b[0m\u001b[0;34m:\u001b[0m\u001b[0;34m\u001b[0m\u001b[0;34m\u001b[0m\u001b[0m\n\u001b[1;32m    217\u001b[0m                         \u001b[0;32mpass\u001b[0m\u001b[0;34m\u001b[0m\u001b[0;34m\u001b[0m\u001b[0m\n\u001b[0;32m--> 218\u001b[0;31m                     \u001b[0;32mraise\u001b[0m \u001b[0mFloatingPointError\u001b[0m\u001b[0;34m(\u001b[0m\u001b[0;34m'\\n'\u001b[0m\u001b[0;34m.\u001b[0m\u001b[0mjoin\u001b[0m\u001b[0;34m(\u001b[0m\u001b[0merrmsg\u001b[0m\u001b[0;34m)\u001b[0m\u001b[0;34m)\u001b[0m\u001b[0;34m\u001b[0m\u001b[0;34m\u001b[0m\u001b[0m\n\u001b[0m\u001b[1;32m    219\u001b[0m                 \u001b[0mscores\u001b[0m\u001b[0;34m[\u001b[0m\u001b[0mi\u001b[0m\u001b[0;34m]\u001b[0m \u001b[0;34m=\u001b[0m \u001b[0me\u001b[0m\u001b[0;34m\u001b[0m\u001b[0;34m\u001b[0m\u001b[0m\n\u001b[1;32m    220\u001b[0m                 \u001b[0;32mif\u001b[0m \u001b[0mi\u001b[0m \u001b[0;34m%\u001b[0m \u001b[0;36m10\u001b[0m \u001b[0;34m==\u001b[0m \u001b[0;36m0\u001b[0m\u001b[0;34m:\u001b[0m\u001b[0;34m\u001b[0m\u001b[0;34m\u001b[0m\u001b[0m\n",
      "\u001b[0;31mFloatingPointError\u001b[0m: NaN occurred in optimization. \nThe current approximation of RV `logκ`.ravel()[31] is NaN.\nThe current approximation of RV `logs_group_stds_interval__`.ravel()[1] is NaN.\nThe current approximation of RV `logs_group_means`.ravel()[1] is NaN.\nThe current approximation of RV `logκ_group_stds_interval__`.ravel()[1] is NaN.\nThe current approximation of RV `logs`.ravel()[31] is NaN.\nThe current approximation of RV `logκ_group_means`.ravel()[1] is NaN.\nTry tracking this parameter: http://docs.pymc.io/notebooks/variational_api_quickstart.html#Tracking-parameters"
     ]
    },
    {
     "data": {
      "image/png": "[encoded data removed]",
      "text/plain": [
       "<Figure size 432x288 with 1 Axes>"
      ]
     },
     "metadata": {
      "image/png": {
       "height": 252,
       "width": 384
      },
      "needs_background": "light"
     },
     "output_type": "display_data"
    }
   ],
   "source": [
    "# NOTE: low std means high effect size\n",
    "group_κstd_list = np.linspace(0.5, 2, 6)\n",
    "\n",
    "results = []\n",
    "\n",
    "for group_logκstd in group_κstd_list:\n",
    "\n",
    "    # INFER EFFECT SIZES FOR GIVEN SET OF GROUP PARAMETERS\n",
    "\n",
    "    pdataset, true_logκ_effect_size, true_logs_effect_size = make_participant_level_dataset(group_logκstd,\n",
    "                                       groupA_logκmean=-2.3, \n",
    "                                       groupB_logκmean=-4.6,\n",
    "                                       groupA_logsmean=0, \n",
    "                                       groupB_logsmean=0,\n",
    "                                       logs_std=0.1,\n",
    "                                       N_per_group=20)\n",
    "\n",
    "    trial_level_dataset = simulate_entire_experiment(pdataset)\n",
    "\n",
    "    these_results = infer_effect_size_modified_rachlin(trial_level_dataset)\n",
    "    \n",
    "    these_results['logκstd'] = group_logκstd\n",
    "    these_results['true_logκ_effect_size'] = true_logκ_effect_size\n",
    "    these_results['true_logs_effect_size'] = true_logs_effect_size\n",
    "\n",
    "    results.append(these_results)\n",
    "    \n",
    "results = pd.concat(results, ignore_index=True)\n",
    "results"
   ]
  },
  {
   "cell_type": "markdown",
   "metadata": {},
   "source": [
    "## Plot results"
   ]
  },
  {
   "cell_type": "code",
   "execution_count": null,
   "metadata": {},
   "outputs": [],
   "source": [
    "plt.rcParams.update({'font.size': 14})\n",
    "\n",
    "fig, ax = plt.subplots(1, 1, figsize=(10, 10))\n",
    "\n",
    "# LOG KAPPA PLOT ------------------------------------------------\n",
    "ax.errorbar(results['true_logκ_effect_size'],\n",
    "               results['logκ50'], \n",
    "               yerr=[results['logκ2.5']-results['logκ50'],\n",
    "                     results['logκ50']-results['logκ97.5']], \n",
    "               fmt='-o', \n",
    "               label='modified Rachlin')\n",
    "\n",
    "ax.plot([0, 5], [0, 5], c='k')\n",
    "\n",
    "ax.legend()\n",
    "\n",
    "ax.set(xlabel=\"True effect size, Cohen's D\", \n",
    "       ylabel=\"Inferred effect size, Cohen's D\", \n",
    "       title='log(κ)');"
   ]
  },
  {
   "cell_type": "code",
   "execution_count": null,
   "metadata": {},
   "outputs": [],
   "source": []
  },
  {
   "cell_type": "code",
   "execution_count": null,
   "metadata": {},
   "outputs": [],
   "source": []
  },
  {
   "cell_type": "code",
   "execution_count": null,
   "metadata": {},
   "outputs": [],
   "source": []
  },
  {
   "cell_type": "code",
   "execution_count": null,
   "metadata": {},
   "outputs": [],
   "source": []
  },
  {
   "cell_type": "code",
   "execution_count": null,
   "metadata": {},
   "outputs": [],
   "source": []
  },
  {
   "cell_type": "code",
   "execution_count": null,
   "metadata": {},
   "outputs": [],
   "source": []
  },
  {
   "cell_type": "code",
   "execution_count": null,
   "metadata": {},
   "outputs": [],
   "source": []
  },
  {
   "cell_type": "code",
   "execution_count": null,
   "metadata": {},
   "outputs": [],
   "source": []
  },
  {
   "cell_type": "code",
   "execution_count": null,
   "metadata": {},
   "outputs": [],
   "source": []
  },
  {
   "cell_type": "code",
   "execution_count": null,
   "metadata": {},
   "outputs": [],
   "source": []
  },
  {
   "cell_type": "code",
   "execution_count": null,
   "metadata": {},
   "outputs": [],
   "source": []
  },
  {
   "cell_type": "code",
   "execution_count": null,
   "metadata": {},
   "outputs": [],
   "source": []
  },
  {
   "cell_type": "markdown",
   "metadata": {},
   "source": [
    "# Test code to do inference for a given effect size"
   ]
  },
  {
   "cell_type": "code",
   "execution_count": null,
   "metadata": {},
   "outputs": [],
   "source": [
    "group_logκstd = 0.01\n",
    "\n",
    "participant_level_dataset, true_κ_effect_size, true_s_effect_size = make_participant_level_dataset(group_logκstd,\n",
    "                                   groupA_logκmean=-4.6, \n",
    "                                   groupB_logκmean=-2.3,\n",
    "                                   groupA_logsmean=0, \n",
    "                                   groupB_logsmean=0,\n",
    "                                   logs_std=0.1,\n",
    "                                   N_per_group=20)"
   ]
  },
  {
   "cell_type": "code",
   "execution_count": null,
   "metadata": {},
   "outputs": [],
   "source": [
    "trial_level_dataset = simulate_entire_experiment(participant_level_dataset)"
   ]
  },
  {
   "cell_type": "markdown",
   "metadata": {},
   "source": [
    "Function above will replace the code below after it's all good."
   ]
  },
  {
   "cell_type": "code",
   "execution_count": null,
   "metadata": {},
   "outputs": [],
   "source": [
    "model = make_modified_rachlin_model(trial_level_dataset)"
   ]
  },
  {
   "cell_type": "code",
   "execution_count": null,
   "metadata": {},
   "outputs": [],
   "source": [
    "pm.model_to_graphviz(model)"
   ]
  },
  {
   "cell_type": "code",
   "execution_count": null,
   "metadata": {},
   "outputs": [],
   "source": [
    "# DO THE INFERENCE\n",
    "with model:\n",
    "    trace = pm.sample(**sample_options)"
   ]
  },
  {
   "cell_type": "code",
   "execution_count": null,
   "metadata": {},
   "outputs": [],
   "source": [
    "pm.energyplot(trace)"
   ]
  },
  {
   "cell_type": "code",
   "execution_count": null,
   "metadata": {},
   "outputs": [],
   "source": [
    "pm.forestplot(trace, var_names=['logκ'], r_hat=True);"
   ]
  },
  {
   "cell_type": "code",
   "execution_count": null,
   "metadata": {},
   "outputs": [],
   "source": [
    "pm.forestplot(trace, var_names=['logs'], r_hat=True);"
   ]
  },
  {
   "cell_type": "code",
   "execution_count": null,
   "metadata": {},
   "outputs": [],
   "source": [
    "pm.forestplot(trace, var_names=['logκ_group_means', 'logκ_group_stds']);"
   ]
  },
  {
   "cell_type": "code",
   "execution_count": null,
   "metadata": {},
   "outputs": [],
   "source": [
    "pm.forestplot(trace, var_names=['logs_group_means', 'logs_group_stds'], r_hat=True);"
   ]
  },
  {
   "cell_type": "code",
   "execution_count": null,
   "metadata": {},
   "outputs": [],
   "source": [
    "pm.plot_posterior(trace, var_names=['logκ difference of means','logκ difference of stds', 'logκ effect size'],\n",
    "                  ref_val=0,\n",
    "                  color='#87ceeb');"
   ]
  },
  {
   "cell_type": "code",
   "execution_count": null,
   "metadata": {},
   "outputs": [],
   "source": [
    "pm.plot_posterior(trace, var_names=['logs difference of means','logs difference of stds', 'logs effect size'],\n",
    "                  ref_val=0,\n",
    "                  color='#87ceeb');"
   ]
  },
  {
   "cell_type": "code",
   "execution_count": null,
   "metadata": {},
   "outputs": [],
   "source": [
    "# TODO extract mean and CI for effect size for logk and logs\n",
    "# wrap that into a function"
   ]
  },
  {
   "cell_type": "code",
   "execution_count": null,
   "metadata": {},
   "outputs": [],
   "source": [
    "logκ_stats = pm.stats.quantiles(trace['logκ effect size'])\n",
    "logs_stats = pm.stats.quantiles(trace['logs effect size'])"
   ]
  },
  {
   "cell_type": "code",
   "execution_count": null,
   "metadata": {},
   "outputs": [],
   "source": [
    "logs_stats = pm.stats.quantiles(trace['logs effect size'])"
   ]
  },
  {
   "cell_type": "code",
   "execution_count": null,
   "metadata": {},
   "outputs": [],
   "source": []
  },
  {
   "cell_type": "markdown",
   "metadata": {},
   "source": [
    "# Variational Inference"
   ]
  },
  {
   "cell_type": "code",
   "execution_count": null,
   "metadata": {},
   "outputs": [],
   "source": [
    "group_logκstd = 0.01\n",
    "\n",
    "participant_level_dataset, true_κ_effect_size, true_s_effect_size = make_participant_level_dataset(group_logκstd,\n",
    "                                   groupA_logκmean=-4.6, \n",
    "                                   groupB_logκmean=-2.3,\n",
    "                                   groupA_logsmean=0, \n",
    "                                   groupB_logsmean=0,\n",
    "                                   logs_std=0.1,\n",
    "                                   N_per_group=20)"
   ]
  },
  {
   "cell_type": "code",
   "execution_count": null,
   "metadata": {},
   "outputs": [],
   "source": [
    "trial_level_dataset = simulate_entire_experiment(participant_level_dataset)"
   ]
  },
  {
   "cell_type": "code",
   "execution_count": null,
   "metadata": {},
   "outputs": [],
   "source": [
    "model = make_modified_rachlin_model(trial_level_dataset)"
   ]
  },
  {
   "cell_type": "code",
   "execution_count": null,
   "metadata": {},
   "outputs": [],
   "source": [
    "with model:\n",
    "    advi_fit = pm.fit(method=pm.ADVI(), n=60000)"
   ]
  },
  {
   "cell_type": "code",
   "execution_count": null,
   "metadata": {},
   "outputs": [],
   "source": [
    "advi_elbo = pd.DataFrame({'log-ELBO': -np.log(advi_fit.hist),\n",
    "                          'n': np.arange(advi_fit.hist.shape[0])})\n",
    "plt.plot(advi_elbo['n'], advi_elbo['log-ELBO'])"
   ]
  },
  {
   "cell_type": "code",
   "execution_count": null,
   "metadata": {},
   "outputs": [],
   "source": [
    "advi_trace = advi_fit.sample(10000)\n",
    "#pm.traceplot(advi_trace)"
   ]
  },
  {
   "cell_type": "code",
   "execution_count": null,
   "metadata": {},
   "outputs": [],
   "source": [
    "pm.plot_posterior(advi_trace, var_names=['logκ effect size', 'logs effect size'],\n",
    "                  ref_val=0, color='#87ceeb');"
   ]
  },
  {
   "cell_type": "code",
   "execution_count": null,
   "metadata": {},
   "outputs": [],
   "source": []
  },
  {
   "cell_type": "code",
   "execution_count": null,
   "metadata": {},
   "outputs": [],
   "source": []
  },
  {
   "cell_type": "code",
   "execution_count": null,
   "metadata": {},
   "outputs": [],
   "source": []
  },
  {
   "cell_type": "code",
   "execution_count": null,
   "metadata": {},
   "outputs": [],
   "source": []
  },
  {
   "cell_type": "code",
   "execution_count": null,
   "metadata": {},
   "outputs": [],
   "source": []
  },
  {
   "cell_type": "code",
   "execution_count": null,
   "metadata": {},
   "outputs": [],
   "source": []
  },
  {
   "cell_type": "code",
   "execution_count": null,
   "metadata": {},
   "outputs": [],
   "source": []
  },
  {
   "cell_type": "markdown",
   "metadata": {},
   "source": [
    "# References\n",
    "- Kruschke, John. (2012) Bayesian estimation supersedes the t test. Journal of Experimental Psychology: General."
   ]
  }
 ],
 "metadata": {
  "kernelspec": {
   "display_name": "Python 3",
   "language": "python",
   "name": "python3"
  },
  "language_info": {
   "codemirror_mode": {
    "name": "ipython",
    "version": 3
   },
   "file_extension": ".py",
   "mimetype": "text/x-python",
   "name": "python",
   "nbconvert_exporter": "python",
   "pygments_lexer": "ipython3",
   "version": "3.6.8"
  }
 },
 "nbformat": 4,
 "nbformat_minor": 2
}
